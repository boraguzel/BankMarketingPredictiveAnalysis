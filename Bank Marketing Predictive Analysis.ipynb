{
 "cells": [
  {
   "cell_type": "markdown",
   "id": "5c381e1b",
   "metadata": {},
   "source": [
    "# Bank Marketing Predictive Analysis"
   ]
  },
  {
   "cell_type": "markdown",
   "id": "48b69206",
   "metadata": {},
   "source": [
    "In this project I will be working on a bank marketing dataset containing information of several \n",
    "thousands of direct phone marketing, performed by a banking institution in Portugal to offer their new \n",
    "bank term deposit product. The original data has more than 45000 with 20 features. I will be working \n",
    "on a 20% sample of the dataset with 17 features."
   ]
  },
  {
   "cell_type": "markdown",
   "id": "09b98160",
   "metadata": {},
   "source": [
    "### Analyst & Dataset"
   ]
  },
  {
   "cell_type": "markdown",
   "id": "c788b7c6",
   "metadata": {},
   "source": [
    "**Bora Guzel**\n",
    "\n",
    ">e-mail: boraguzel01@gmail.com\n",
    ">\n",
    ">LinkedIn: https://www.linkedin.com/in/boraguzel/\n",
    ">\n",
    ">GitHub: https://github.com/boraguzel\n",
    ">\n",
    ">Tableau: https://public.tableau.com/app/profile/bora.guzel\n",
    "\n",
    "---\n",
    "\n",
    "Dataset: 20% sample of the **Bank Marketing Dataset\n",
    "\n",
    "Link: https://www.kaggle.com/datasets/henriqueyamahata/bank-marketing\n",
    "\n"
   ]
  },
  {
   "cell_type": "markdown",
   "id": "c6f17c12",
   "metadata": {},
   "source": [
    "# Project"
   ]
  },
  {
   "cell_type": "code",
   "execution_count": 1,
   "id": "f322dbc0",
   "metadata": {},
   "outputs": [],
   "source": [
    "# Import Libraries\n",
    "import pandas as pd\n",
    "import numpy as np\n",
    "import matplotlib.pyplot as plt\n",
    "import seaborn as sns \n",
    "%matplotlib inline \n",
    "from sklearn.model_selection import train_test_split\n",
    "from sklearn.neighbors import KNeighborsClassifier\n",
    "from sklearn.tree import DecisionTreeClassifier\n",
    "from sklearn.ensemble import RandomForestClassifier, AdaBoostClassifier\n",
    "import xgboost as xgb\n",
    "from sklearn.naive_bayes import GaussianNB\n",
    "from sklearn.linear_model import LinearRegression, LogisticRegression, Ridge, Lasso\n",
    "from sklearn.metrics import mean_squared_error \n",
    "from sklearn.preprocessing import StandardScaler, MinMaxScaler, RobustScaler \n",
    "from datetime import datetime as dt\n",
    "from sklearn.model_selection import cross_val_score,KFold,LeaveOneOut\n",
    "import warnings\n",
    "warnings.filterwarnings(\"ignore\")"
   ]
  },
  {
   "cell_type": "code",
   "execution_count": 2,
   "id": "7dc2a06c",
   "metadata": {
    "scrolled": true
   },
   "outputs": [
    {
     "data": {
      "text/html": [
       "<div>\n",
       "<style scoped>\n",
       "    .dataframe tbody tr th:only-of-type {\n",
       "        vertical-align: middle;\n",
       "    }\n",
       "\n",
       "    .dataframe tbody tr th {\n",
       "        vertical-align: top;\n",
       "    }\n",
       "\n",
       "    .dataframe thead th {\n",
       "        text-align: right;\n",
       "    }\n",
       "</style>\n",
       "<table border=\"1\" class=\"dataframe\">\n",
       "  <thead>\n",
       "    <tr style=\"text-align: right;\">\n",
       "      <th></th>\n",
       "      <th>age</th>\n",
       "      <th>job</th>\n",
       "      <th>marital</th>\n",
       "      <th>education</th>\n",
       "      <th>default</th>\n",
       "      <th>balance</th>\n",
       "      <th>housing</th>\n",
       "      <th>loan</th>\n",
       "      <th>contact</th>\n",
       "      <th>day</th>\n",
       "      <th>month</th>\n",
       "      <th>duration</th>\n",
       "      <th>campaign</th>\n",
       "      <th>pdays</th>\n",
       "      <th>previous</th>\n",
       "      <th>poutcome</th>\n",
       "      <th>y</th>\n",
       "    </tr>\n",
       "  </thead>\n",
       "  <tbody>\n",
       "    <tr>\n",
       "      <th>0</th>\n",
       "      <td>58</td>\n",
       "      <td>management</td>\n",
       "      <td>married</td>\n",
       "      <td>tertiary</td>\n",
       "      <td>no</td>\n",
       "      <td>2143</td>\n",
       "      <td>yes</td>\n",
       "      <td>no</td>\n",
       "      <td>unknown</td>\n",
       "      <td>5</td>\n",
       "      <td>may</td>\n",
       "      <td>261</td>\n",
       "      <td>1</td>\n",
       "      <td>-1</td>\n",
       "      <td>0</td>\n",
       "      <td>unknown</td>\n",
       "      <td>no</td>\n",
       "    </tr>\n",
       "    <tr>\n",
       "      <th>2</th>\n",
       "      <td>33</td>\n",
       "      <td>entrepreneur</td>\n",
       "      <td>married</td>\n",
       "      <td>secondary</td>\n",
       "      <td>no</td>\n",
       "      <td>2</td>\n",
       "      <td>yes</td>\n",
       "      <td>yes</td>\n",
       "      <td>unknown</td>\n",
       "      <td>5</td>\n",
       "      <td>may</td>\n",
       "      <td>76</td>\n",
       "      <td>1</td>\n",
       "      <td>-1</td>\n",
       "      <td>0</td>\n",
       "      <td>unknown</td>\n",
       "      <td>no</td>\n",
       "    </tr>\n",
       "    <tr>\n",
       "      <th>11</th>\n",
       "      <td>29</td>\n",
       "      <td>admin.</td>\n",
       "      <td>single</td>\n",
       "      <td>secondary</td>\n",
       "      <td>no</td>\n",
       "      <td>390</td>\n",
       "      <td>yes</td>\n",
       "      <td>no</td>\n",
       "      <td>unknown</td>\n",
       "      <td>5</td>\n",
       "      <td>may</td>\n",
       "      <td>137</td>\n",
       "      <td>1</td>\n",
       "      <td>-1</td>\n",
       "      <td>0</td>\n",
       "      <td>unknown</td>\n",
       "      <td>no</td>\n",
       "    </tr>\n",
       "    <tr>\n",
       "      <th>12</th>\n",
       "      <td>53</td>\n",
       "      <td>technician</td>\n",
       "      <td>married</td>\n",
       "      <td>secondary</td>\n",
       "      <td>no</td>\n",
       "      <td>6</td>\n",
       "      <td>yes</td>\n",
       "      <td>no</td>\n",
       "      <td>unknown</td>\n",
       "      <td>5</td>\n",
       "      <td>may</td>\n",
       "      <td>517</td>\n",
       "      <td>1</td>\n",
       "      <td>-1</td>\n",
       "      <td>0</td>\n",
       "      <td>unknown</td>\n",
       "      <td>no</td>\n",
       "    </tr>\n",
       "    <tr>\n",
       "      <th>17</th>\n",
       "      <td>57</td>\n",
       "      <td>blue-collar</td>\n",
       "      <td>married</td>\n",
       "      <td>primary</td>\n",
       "      <td>no</td>\n",
       "      <td>52</td>\n",
       "      <td>yes</td>\n",
       "      <td>no</td>\n",
       "      <td>unknown</td>\n",
       "      <td>5</td>\n",
       "      <td>may</td>\n",
       "      <td>38</td>\n",
       "      <td>1</td>\n",
       "      <td>-1</td>\n",
       "      <td>0</td>\n",
       "      <td>unknown</td>\n",
       "      <td>no</td>\n",
       "    </tr>\n",
       "    <tr>\n",
       "      <th>...</th>\n",
       "      <td>...</td>\n",
       "      <td>...</td>\n",
       "      <td>...</td>\n",
       "      <td>...</td>\n",
       "      <td>...</td>\n",
       "      <td>...</td>\n",
       "      <td>...</td>\n",
       "      <td>...</td>\n",
       "      <td>...</td>\n",
       "      <td>...</td>\n",
       "      <td>...</td>\n",
       "      <td>...</td>\n",
       "      <td>...</td>\n",
       "      <td>...</td>\n",
       "      <td>...</td>\n",
       "      <td>...</td>\n",
       "      <td>...</td>\n",
       "    </tr>\n",
       "    <tr>\n",
       "      <th>45199</th>\n",
       "      <td>34</td>\n",
       "      <td>blue-collar</td>\n",
       "      <td>single</td>\n",
       "      <td>secondary</td>\n",
       "      <td>no</td>\n",
       "      <td>1475</td>\n",
       "      <td>yes</td>\n",
       "      <td>no</td>\n",
       "      <td>cellular</td>\n",
       "      <td>16</td>\n",
       "      <td>nov</td>\n",
       "      <td>1166</td>\n",
       "      <td>3</td>\n",
       "      <td>530</td>\n",
       "      <td>12</td>\n",
       "      <td>other</td>\n",
       "      <td>no</td>\n",
       "    </tr>\n",
       "    <tr>\n",
       "      <th>45201</th>\n",
       "      <td>53</td>\n",
       "      <td>management</td>\n",
       "      <td>married</td>\n",
       "      <td>tertiary</td>\n",
       "      <td>no</td>\n",
       "      <td>583</td>\n",
       "      <td>no</td>\n",
       "      <td>no</td>\n",
       "      <td>cellular</td>\n",
       "      <td>17</td>\n",
       "      <td>nov</td>\n",
       "      <td>226</td>\n",
       "      <td>1</td>\n",
       "      <td>184</td>\n",
       "      <td>4</td>\n",
       "      <td>success</td>\n",
       "      <td>yes</td>\n",
       "    </tr>\n",
       "    <tr>\n",
       "      <th>45204</th>\n",
       "      <td>73</td>\n",
       "      <td>retired</td>\n",
       "      <td>married</td>\n",
       "      <td>secondary</td>\n",
       "      <td>no</td>\n",
       "      <td>2850</td>\n",
       "      <td>no</td>\n",
       "      <td>no</td>\n",
       "      <td>cellular</td>\n",
       "      <td>17</td>\n",
       "      <td>nov</td>\n",
       "      <td>300</td>\n",
       "      <td>1</td>\n",
       "      <td>40</td>\n",
       "      <td>8</td>\n",
       "      <td>failure</td>\n",
       "      <td>yes</td>\n",
       "    </tr>\n",
       "    <tr>\n",
       "      <th>45206</th>\n",
       "      <td>51</td>\n",
       "      <td>technician</td>\n",
       "      <td>married</td>\n",
       "      <td>tertiary</td>\n",
       "      <td>no</td>\n",
       "      <td>825</td>\n",
       "      <td>no</td>\n",
       "      <td>no</td>\n",
       "      <td>cellular</td>\n",
       "      <td>17</td>\n",
       "      <td>nov</td>\n",
       "      <td>977</td>\n",
       "      <td>3</td>\n",
       "      <td>-1</td>\n",
       "      <td>0</td>\n",
       "      <td>unknown</td>\n",
       "      <td>yes</td>\n",
       "    </tr>\n",
       "    <tr>\n",
       "      <th>45207</th>\n",
       "      <td>71</td>\n",
       "      <td>retired</td>\n",
       "      <td>divorced</td>\n",
       "      <td>primary</td>\n",
       "      <td>no</td>\n",
       "      <td>1729</td>\n",
       "      <td>no</td>\n",
       "      <td>no</td>\n",
       "      <td>cellular</td>\n",
       "      <td>17</td>\n",
       "      <td>nov</td>\n",
       "      <td>456</td>\n",
       "      <td>2</td>\n",
       "      <td>-1</td>\n",
       "      <td>0</td>\n",
       "      <td>unknown</td>\n",
       "      <td>yes</td>\n",
       "    </tr>\n",
       "  </tbody>\n",
       "</table>\n",
       "<p>9000 rows × 17 columns</p>\n",
       "</div>"
      ],
      "text/plain": [
       "       age           job   marital  education default  balance housing loan  \\\n",
       "0       58    management   married   tertiary      no     2143     yes   no   \n",
       "2       33  entrepreneur   married  secondary      no        2     yes  yes   \n",
       "11      29        admin.    single  secondary      no      390     yes   no   \n",
       "12      53    technician   married  secondary      no        6     yes   no   \n",
       "17      57   blue-collar   married    primary      no       52     yes   no   \n",
       "...    ...           ...       ...        ...     ...      ...     ...  ...   \n",
       "45199   34   blue-collar    single  secondary      no     1475     yes   no   \n",
       "45201   53    management   married   tertiary      no      583      no   no   \n",
       "45204   73       retired   married  secondary      no     2850      no   no   \n",
       "45206   51    technician   married   tertiary      no      825      no   no   \n",
       "45207   71       retired  divorced    primary      no     1729      no   no   \n",
       "\n",
       "        contact  day month  duration  campaign  pdays  previous poutcome    y  \n",
       "0       unknown    5   may       261         1     -1         0  unknown   no  \n",
       "2       unknown    5   may        76         1     -1         0  unknown   no  \n",
       "11      unknown    5   may       137         1     -1         0  unknown   no  \n",
       "12      unknown    5   may       517         1     -1         0  unknown   no  \n",
       "17      unknown    5   may        38         1     -1         0  unknown   no  \n",
       "...         ...  ...   ...       ...       ...    ...       ...      ...  ...  \n",
       "45199  cellular   16   nov      1166         3    530        12    other   no  \n",
       "45201  cellular   17   nov       226         1    184         4  success  yes  \n",
       "45204  cellular   17   nov       300         1     40         8  failure  yes  \n",
       "45206  cellular   17   nov       977         3     -1         0  unknown  yes  \n",
       "45207  cellular   17   nov       456         2     -1         0  unknown  yes  \n",
       "\n",
       "[9000 rows x 17 columns]"
      ]
     },
     "execution_count": 2,
     "metadata": {},
     "output_type": "execute_result"
    }
   ],
   "source": [
    "#Load the dataset\n",
    "df = pd.read_csv(\"bank-sampled-9K.csv\",index_col=0)\n",
    "df"
   ]
  },
  {
   "cell_type": "code",
   "execution_count": 3,
   "id": "7fee5bf2",
   "metadata": {},
   "outputs": [
    {
     "name": "stdout",
     "output_type": "stream",
     "text": [
      "<class 'pandas.core.frame.DataFrame'>\n",
      "Int64Index: 9000 entries, 0 to 45207\n",
      "Data columns (total 17 columns):\n",
      " #   Column     Non-Null Count  Dtype \n",
      "---  ------     --------------  ----- \n",
      " 0   age        9000 non-null   int64 \n",
      " 1   job        9000 non-null   object\n",
      " 2   marital    9000 non-null   object\n",
      " 3   education  9000 non-null   object\n",
      " 4   default    9000 non-null   object\n",
      " 5   balance    9000 non-null   int64 \n",
      " 6   housing    9000 non-null   object\n",
      " 7   loan       9000 non-null   object\n",
      " 8   contact    9000 non-null   object\n",
      " 9   day        9000 non-null   int64 \n",
      " 10  month      9000 non-null   object\n",
      " 11  duration   9000 non-null   int64 \n",
      " 12  campaign   9000 non-null   int64 \n",
      " 13  pdays      9000 non-null   int64 \n",
      " 14  previous   9000 non-null   int64 \n",
      " 15  poutcome   9000 non-null   object\n",
      " 16  y          9000 non-null   object\n",
      "dtypes: int64(7), object(10)\n",
      "memory usage: 1.2+ MB\n"
     ]
    }
   ],
   "source": [
    "# Check for null values\n",
    "df.info()"
   ]
  },
  {
   "cell_type": "markdown",
   "id": "2361892b",
   "metadata": {},
   "source": [
    "# Data Exploration and Preprocessing"
   ]
  },
  {
   "cell_type": "code",
   "execution_count": 4,
   "id": "227f43f0",
   "metadata": {},
   "outputs": [],
   "source": [
    "#Drop the 'duration' column and process date-related features\n",
    "df.drop(\"duration\", axis=1, inplace=True)\n",
    "\n",
    "last_date = \"18 Nov, 2010\"\n",
    "dt_1 = dt.strptime(last_date, \"%d %b, %Y\")\n",
    "\n",
    "df[\"month\"] = df[\"month\"].apply(lambda x: x.capitalize())\n",
    "df[\"date\"] = df['day'].astype(str)+ \" \" + df['month'] + \", 2010\"\n",
    "\n",
    "df[\"last_contact\"] = df['date'].apply(lambda x: (dt_1 - dt.strptime(x, \"%d %b, %Y\")).days)\n",
    "\n",
    "df.drop(columns=['day','date','month'], axis=1, inplace=True)"
   ]
  },
  {
   "cell_type": "code",
   "execution_count": 5,
   "id": "fa199a1f",
   "metadata": {},
   "outputs": [
    {
     "data": {
      "text/html": [
       "<div>\n",
       "<style scoped>\n",
       "    .dataframe tbody tr th:only-of-type {\n",
       "        vertical-align: middle;\n",
       "    }\n",
       "\n",
       "    .dataframe tbody tr th {\n",
       "        vertical-align: top;\n",
       "    }\n",
       "\n",
       "    .dataframe thead th {\n",
       "        text-align: right;\n",
       "    }\n",
       "</style>\n",
       "<table border=\"1\" class=\"dataframe\">\n",
       "  <thead>\n",
       "    <tr style=\"text-align: right;\">\n",
       "      <th></th>\n",
       "      <th>age</th>\n",
       "      <th>job</th>\n",
       "      <th>marital</th>\n",
       "      <th>education</th>\n",
       "      <th>default</th>\n",
       "      <th>balance</th>\n",
       "      <th>housing</th>\n",
       "      <th>loan</th>\n",
       "      <th>contact</th>\n",
       "      <th>campaign</th>\n",
       "      <th>pdays</th>\n",
       "      <th>previous</th>\n",
       "      <th>poutcome</th>\n",
       "      <th>y</th>\n",
       "      <th>last_contact</th>\n",
       "    </tr>\n",
       "  </thead>\n",
       "  <tbody>\n",
       "    <tr>\n",
       "      <th>0</th>\n",
       "      <td>58</td>\n",
       "      <td>management</td>\n",
       "      <td>married</td>\n",
       "      <td>tertiary</td>\n",
       "      <td>no</td>\n",
       "      <td>2143</td>\n",
       "      <td>yes</td>\n",
       "      <td>no</td>\n",
       "      <td>unknown</td>\n",
       "      <td>1</td>\n",
       "      <td>-1</td>\n",
       "      <td>0</td>\n",
       "      <td>unknown</td>\n",
       "      <td>no</td>\n",
       "      <td>197</td>\n",
       "    </tr>\n",
       "    <tr>\n",
       "      <th>2</th>\n",
       "      <td>33</td>\n",
       "      <td>entrepreneur</td>\n",
       "      <td>married</td>\n",
       "      <td>secondary</td>\n",
       "      <td>no</td>\n",
       "      <td>2</td>\n",
       "      <td>yes</td>\n",
       "      <td>yes</td>\n",
       "      <td>unknown</td>\n",
       "      <td>1</td>\n",
       "      <td>-1</td>\n",
       "      <td>0</td>\n",
       "      <td>unknown</td>\n",
       "      <td>no</td>\n",
       "      <td>197</td>\n",
       "    </tr>\n",
       "    <tr>\n",
       "      <th>11</th>\n",
       "      <td>29</td>\n",
       "      <td>admin.</td>\n",
       "      <td>single</td>\n",
       "      <td>secondary</td>\n",
       "      <td>no</td>\n",
       "      <td>390</td>\n",
       "      <td>yes</td>\n",
       "      <td>no</td>\n",
       "      <td>unknown</td>\n",
       "      <td>1</td>\n",
       "      <td>-1</td>\n",
       "      <td>0</td>\n",
       "      <td>unknown</td>\n",
       "      <td>no</td>\n",
       "      <td>197</td>\n",
       "    </tr>\n",
       "    <tr>\n",
       "      <th>12</th>\n",
       "      <td>53</td>\n",
       "      <td>technician</td>\n",
       "      <td>married</td>\n",
       "      <td>secondary</td>\n",
       "      <td>no</td>\n",
       "      <td>6</td>\n",
       "      <td>yes</td>\n",
       "      <td>no</td>\n",
       "      <td>unknown</td>\n",
       "      <td>1</td>\n",
       "      <td>-1</td>\n",
       "      <td>0</td>\n",
       "      <td>unknown</td>\n",
       "      <td>no</td>\n",
       "      <td>197</td>\n",
       "    </tr>\n",
       "    <tr>\n",
       "      <th>17</th>\n",
       "      <td>57</td>\n",
       "      <td>blue-collar</td>\n",
       "      <td>married</td>\n",
       "      <td>primary</td>\n",
       "      <td>no</td>\n",
       "      <td>52</td>\n",
       "      <td>yes</td>\n",
       "      <td>no</td>\n",
       "      <td>unknown</td>\n",
       "      <td>1</td>\n",
       "      <td>-1</td>\n",
       "      <td>0</td>\n",
       "      <td>unknown</td>\n",
       "      <td>no</td>\n",
       "      <td>197</td>\n",
       "    </tr>\n",
       "  </tbody>\n",
       "</table>\n",
       "</div>"
      ],
      "text/plain": [
       "    age           job  marital  education default  balance housing loan  \\\n",
       "0    58    management  married   tertiary      no     2143     yes   no   \n",
       "2    33  entrepreneur  married  secondary      no        2     yes  yes   \n",
       "11   29        admin.   single  secondary      no      390     yes   no   \n",
       "12   53    technician  married  secondary      no        6     yes   no   \n",
       "17   57   blue-collar  married    primary      no       52     yes   no   \n",
       "\n",
       "    contact  campaign  pdays  previous poutcome   y  last_contact  \n",
       "0   unknown         1     -1         0  unknown  no           197  \n",
       "2   unknown         1     -1         0  unknown  no           197  \n",
       "11  unknown         1     -1         0  unknown  no           197  \n",
       "12  unknown         1     -1         0  unknown  no           197  \n",
       "17  unknown         1     -1         0  unknown  no           197  "
      ]
     },
     "execution_count": 5,
     "metadata": {},
     "output_type": "execute_result"
    }
   ],
   "source": [
    "#checking how the dataframe looks so far\n",
    "df.head()"
   ]
  },
  {
   "cell_type": "code",
   "execution_count": 6,
   "id": "84ab7b8e",
   "metadata": {
    "scrolled": true
   },
   "outputs": [
    {
     "data": {
      "text/html": [
       "<div>\n",
       "<style scoped>\n",
       "    .dataframe tbody tr th:only-of-type {\n",
       "        vertical-align: middle;\n",
       "    }\n",
       "\n",
       "    .dataframe tbody tr th {\n",
       "        vertical-align: top;\n",
       "    }\n",
       "\n",
       "    .dataframe thead th {\n",
       "        text-align: right;\n",
       "    }\n",
       "</style>\n",
       "<table border=\"1\" class=\"dataframe\">\n",
       "  <thead>\n",
       "    <tr style=\"text-align: right;\">\n",
       "      <th></th>\n",
       "      <th>age</th>\n",
       "      <th>balance</th>\n",
       "      <th>campaign</th>\n",
       "      <th>pdays</th>\n",
       "      <th>previous</th>\n",
       "      <th>last_contact</th>\n",
       "    </tr>\n",
       "  </thead>\n",
       "  <tbody>\n",
       "    <tr>\n",
       "      <th>count</th>\n",
       "      <td>9000.000000</td>\n",
       "      <td>9000.000000</td>\n",
       "      <td>9000.000000</td>\n",
       "      <td>9000.000000</td>\n",
       "      <td>9000.000000</td>\n",
       "      <td>9000.000000</td>\n",
       "    </tr>\n",
       "    <tr>\n",
       "      <th>mean</th>\n",
       "      <td>41.035667</td>\n",
       "      <td>1372.970222</td>\n",
       "      <td>2.767667</td>\n",
       "      <td>39.906444</td>\n",
       "      <td>0.609556</td>\n",
       "      <td>150.289000</td>\n",
       "    </tr>\n",
       "    <tr>\n",
       "      <th>std</th>\n",
       "      <td>10.561698</td>\n",
       "      <td>3363.690197</td>\n",
       "      <td>3.011022</td>\n",
       "      <td>99.440498</td>\n",
       "      <td>3.499115</td>\n",
       "      <td>74.721977</td>\n",
       "    </tr>\n",
       "    <tr>\n",
       "      <th>min</th>\n",
       "      <td>18.000000</td>\n",
       "      <td>-4057.000000</td>\n",
       "      <td>1.000000</td>\n",
       "      <td>-1.000000</td>\n",
       "      <td>0.000000</td>\n",
       "      <td>-42.000000</td>\n",
       "    </tr>\n",
       "    <tr>\n",
       "      <th>25%</th>\n",
       "      <td>33.000000</td>\n",
       "      <td>68.000000</td>\n",
       "      <td>1.000000</td>\n",
       "      <td>-1.000000</td>\n",
       "      <td>0.000000</td>\n",
       "      <td>104.000000</td>\n",
       "    </tr>\n",
       "    <tr>\n",
       "      <th>50%</th>\n",
       "      <td>39.000000</td>\n",
       "      <td>450.000000</td>\n",
       "      <td>2.000000</td>\n",
       "      <td>-1.000000</td>\n",
       "      <td>0.000000</td>\n",
       "      <td>166.000000</td>\n",
       "    </tr>\n",
       "    <tr>\n",
       "      <th>75%</th>\n",
       "      <td>48.000000</td>\n",
       "      <td>1453.250000</td>\n",
       "      <td>3.000000</td>\n",
       "      <td>-1.000000</td>\n",
       "      <td>0.000000</td>\n",
       "      <td>193.000000</td>\n",
       "    </tr>\n",
       "    <tr>\n",
       "      <th>max</th>\n",
       "      <td>90.000000</td>\n",
       "      <td>102127.000000</td>\n",
       "      <td>51.000000</td>\n",
       "      <td>831.000000</td>\n",
       "      <td>275.000000</td>\n",
       "      <td>316.000000</td>\n",
       "    </tr>\n",
       "  </tbody>\n",
       "</table>\n",
       "</div>"
      ],
      "text/plain": [
       "               age        balance     campaign        pdays     previous  \\\n",
       "count  9000.000000    9000.000000  9000.000000  9000.000000  9000.000000   \n",
       "mean     41.035667    1372.970222     2.767667    39.906444     0.609556   \n",
       "std      10.561698    3363.690197     3.011022    99.440498     3.499115   \n",
       "min      18.000000   -4057.000000     1.000000    -1.000000     0.000000   \n",
       "25%      33.000000      68.000000     1.000000    -1.000000     0.000000   \n",
       "50%      39.000000     450.000000     2.000000    -1.000000     0.000000   \n",
       "75%      48.000000    1453.250000     3.000000    -1.000000     0.000000   \n",
       "max      90.000000  102127.000000    51.000000   831.000000   275.000000   \n",
       "\n",
       "       last_contact  \n",
       "count   9000.000000  \n",
       "mean     150.289000  \n",
       "std       74.721977  \n",
       "min      -42.000000  \n",
       "25%      104.000000  \n",
       "50%      166.000000  \n",
       "75%      193.000000  \n",
       "max      316.000000  "
      ]
     },
     "execution_count": 6,
     "metadata": {},
     "output_type": "execute_result"
    }
   ],
   "source": [
    "# Summary Statistics\n",
    "df.describe()"
   ]
  },
  {
   "cell_type": "markdown",
   "id": "f3d154a8",
   "metadata": {},
   "source": [
    "## Creation of Dummy Variables"
   ]
  },
  {
   "cell_type": "code",
   "execution_count": 7,
   "id": "7f8a82d3",
   "metadata": {},
   "outputs": [],
   "source": [
    "df = pd.get_dummies(df, drop_first=True)"
   ]
  },
  {
   "cell_type": "code",
   "execution_count": 8,
   "id": "a29d4577",
   "metadata": {},
   "outputs": [],
   "source": [
    "#replacing any appearance of hypen ‘-‘ with underscore ‘_’ \n",
    "df.rename(columns=lambda s: s.replace(\"-\", \"_\"), inplace=True)"
   ]
  },
  {
   "cell_type": "code",
   "execution_count": 9,
   "id": "521d0d57",
   "metadata": {},
   "outputs": [
    {
     "name": "stdout",
     "output_type": "stream",
     "text": [
      "<class 'pandas.core.frame.DataFrame'>\n",
      "Int64Index: 9000 entries, 0 to 45207\n",
      "Data columns (total 31 columns):\n",
      " #   Column               Non-Null Count  Dtype\n",
      "---  ------               --------------  -----\n",
      " 0   age                  9000 non-null   int64\n",
      " 1   balance              9000 non-null   int64\n",
      " 2   campaign             9000 non-null   int64\n",
      " 3   pdays                9000 non-null   int64\n",
      " 4   previous             9000 non-null   int64\n",
      " 5   last_contact         9000 non-null   int64\n",
      " 6   job_blue_collar      9000 non-null   uint8\n",
      " 7   job_entrepreneur     9000 non-null   uint8\n",
      " 8   job_housemaid        9000 non-null   uint8\n",
      " 9   job_management       9000 non-null   uint8\n",
      " 10  job_retired          9000 non-null   uint8\n",
      " 11  job_self_employed    9000 non-null   uint8\n",
      " 12  job_services         9000 non-null   uint8\n",
      " 13  job_student          9000 non-null   uint8\n",
      " 14  job_technician       9000 non-null   uint8\n",
      " 15  job_unemployed       9000 non-null   uint8\n",
      " 16  job_unknown          9000 non-null   uint8\n",
      " 17  marital_married      9000 non-null   uint8\n",
      " 18  marital_single       9000 non-null   uint8\n",
      " 19  education_secondary  9000 non-null   uint8\n",
      " 20  education_tertiary   9000 non-null   uint8\n",
      " 21  education_unknown    9000 non-null   uint8\n",
      " 22  default_yes          9000 non-null   uint8\n",
      " 23  housing_yes          9000 non-null   uint8\n",
      " 24  loan_yes             9000 non-null   uint8\n",
      " 25  contact_telephone    9000 non-null   uint8\n",
      " 26  contact_unknown      9000 non-null   uint8\n",
      " 27  poutcome_other       9000 non-null   uint8\n",
      " 28  poutcome_success     9000 non-null   uint8\n",
      " 29  poutcome_unknown     9000 non-null   uint8\n",
      " 30  y_yes                9000 non-null   uint8\n",
      "dtypes: int64(6), uint8(25)\n",
      "memory usage: 711.9 KB\n"
     ]
    }
   ],
   "source": [
    "df.info()"
   ]
  },
  {
   "cell_type": "markdown",
   "id": "b722c8c7",
   "metadata": {},
   "source": [
    "## Feature Selection and Scaling"
   ]
  },
  {
   "cell_type": "code",
   "execution_count": 10,
   "id": "d495779b",
   "metadata": {},
   "outputs": [],
   "source": [
    "# Divide dataset by features and target\n",
    "df = df.reset_index(drop=True)\n",
    "X = df.drop(\"y_yes\", axis=1)\n",
    "Y = df.y_yes"
   ]
  },
  {
   "cell_type": "markdown",
   "id": "4108de07",
   "metadata": {},
   "source": [
    "### FS with Logistic Regression"
   ]
  },
  {
   "cell_type": "code",
   "execution_count": 13,
   "id": "8ab82f7f",
   "metadata": {},
   "outputs": [],
   "source": [
    "from sklearn.feature_selection import SelectFromModel\n",
    "# Feature Selection using Logistic Regression\n",
    "selector_LogReg = SelectFromModel(estimator=LogisticRegression(max_iter=5000)).fit(X, Y)\n",
    "selected_features_logreg = X.columns[selector_LogReg.get_support()]"
   ]
  },
  {
   "cell_type": "code",
   "execution_count": 14,
   "id": "b613caa7",
   "metadata": {},
   "outputs": [
    {
     "data": {
      "text/plain": [
       "array([False, False, False, False, False, False, False, False,  True,\n",
       "       False,  True, False, False, False, False, False, False, False,\n",
       "       False, False, False, False, False,  True,  True, False,  True,\n",
       "       False,  True,  True])"
      ]
     },
     "execution_count": 14,
     "metadata": {},
     "output_type": "execute_result"
    }
   ],
   "source": [
    "# Selected Features by Linear SVM\n",
    "selector_LogReg.get_support()"
   ]
  },
  {
   "cell_type": "code",
   "execution_count": 15,
   "id": "a288b4ae",
   "metadata": {},
   "outputs": [
    {
     "data": {
      "text/plain": [
       "7"
      ]
     },
     "execution_count": 15,
     "metadata": {},
     "output_type": "execute_result"
    }
   ],
   "source": [
    "selector_LogReg.get_support().sum()"
   ]
  },
  {
   "cell_type": "code",
   "execution_count": 16,
   "id": "336915f5",
   "metadata": {},
   "outputs": [
    {
     "data": {
      "text/plain": [
       "Index(['job_housemaid', 'job_retired', 'housing_yes', 'loan_yes',\n",
       "       'contact_unknown', 'poutcome_success', 'poutcome_unknown'],\n",
       "      dtype='object')"
      ]
     },
     "execution_count": 16,
     "metadata": {},
     "output_type": "execute_result"
    }
   ],
   "source": [
    "X.columns[selector_LogReg.get_support()]"
   ]
  },
  {
   "cell_type": "markdown",
   "id": "b8143bda",
   "metadata": {},
   "source": [
    "### FS with LinearSVM"
   ]
  },
  {
   "cell_type": "code",
   "execution_count": 19,
   "id": "2898e0c5",
   "metadata": {},
   "outputs": [],
   "source": [
    "from sklearn.svm import LinearSVC, SVC\n",
    "selector_SVM = SelectFromModel(estimator=LinearSVC(max_iter=5000, C=0.001))\n",
    "selector_SVM.fit(X,Y)\n",
    "svm=selector_SVM.fit(X,Y)"
   ]
  },
  {
   "cell_type": "code",
   "execution_count": 20,
   "id": "5400e229",
   "metadata": {},
   "outputs": [
    {
     "data": {
      "text/plain": [
       "array([False, False, False, False, False, False, False, False, False,\n",
       "       False,  True, False, False, False, False, False, False,  True,\n",
       "       False, False, False, False, False,  True,  True, False,  True,\n",
       "       False,  True,  True])"
      ]
     },
     "execution_count": 20,
     "metadata": {},
     "output_type": "execute_result"
    }
   ],
   "source": [
    "svm.get_support()"
   ]
  },
  {
   "cell_type": "code",
   "execution_count": 21,
   "id": "82c7515d",
   "metadata": {},
   "outputs": [
    {
     "data": {
      "text/plain": [
       "7"
      ]
     },
     "execution_count": 21,
     "metadata": {},
     "output_type": "execute_result"
    }
   ],
   "source": [
    "svm.get_support().sum()"
   ]
  },
  {
   "cell_type": "code",
   "execution_count": 22,
   "id": "ac9efaa4",
   "metadata": {},
   "outputs": [
    {
     "data": {
      "text/plain": [
       "Index(['job_retired', 'marital_married', 'housing_yes', 'loan_yes',\n",
       "       'contact_unknown', 'poutcome_success', 'poutcome_unknown'],\n",
       "      dtype='object')"
      ]
     },
     "execution_count": 22,
     "metadata": {},
     "output_type": "execute_result"
    }
   ],
   "source": [
    "X.columns[svm.get_support()]"
   ]
  },
  {
   "cell_type": "markdown",
   "id": "8bf77954",
   "metadata": {},
   "source": [
    "### FS with K-Best "
   ]
  },
  {
   "cell_type": "code",
   "execution_count": 23,
   "id": "c6586fe9",
   "metadata": {},
   "outputs": [],
   "source": [
    "from sklearn.feature_selection import SelectKBest, mutual_info_classif"
   ]
  },
  {
   "cell_type": "code",
   "execution_count": 24,
   "id": "7f5badd9",
   "metadata": {},
   "outputs": [
    {
     "data": {
      "text/plain": [
       "Index(['age', 'balance', 'pdays', 'previous', 'last_contact',\n",
       "       'job_entrepreneur', 'housing_yes', 'contact_unknown',\n",
       "       'poutcome_success', 'poutcome_unknown'],\n",
       "      dtype='object')"
      ]
     },
     "execution_count": 24,
     "metadata": {},
     "output_type": "execute_result"
    }
   ],
   "source": [
    "#k=10 for desired 10 features\n",
    "select10 = SelectKBest(mutual_info_classif, k=10)\n",
    "select10.fit(X,Y)\n",
    "select10_cols=select10.fit(X,Y)\n",
    "X.columns[select10_cols.get_support()]"
   ]
  },
  {
   "cell_type": "markdown",
   "id": "d29fc62a",
   "metadata": {},
   "source": [
    "### Milestone"
   ]
  },
  {
   "cell_type": "markdown",
   "id": "122523ca",
   "metadata": {},
   "source": [
    "Logistic Regression and Linear SVM gave 7 features while K-Best gave 10 (it's pre-defined).By looking at the selected features from these models, Linear SVM makes more sense. These features selected by Linear SVM are: -['job_retired', 'marital_married', 'housing_yes', 'loan_yes', 'contact_unknown', 'poutcome_success', 'poutcome_unknown']"
   ]
  },
  {
   "cell_type": "markdown",
   "id": "b2673bd5",
   "metadata": {},
   "source": [
    "# Compare Models"
   ]
  },
  {
   "cell_type": "code",
   "execution_count": 25,
   "id": "53465479",
   "metadata": {},
   "outputs": [],
   "source": [
    "# duplicate the original df just in case\n",
    "o = df"
   ]
  },
  {
   "cell_type": "code",
   "execution_count": 26,
   "id": "8bc50891",
   "metadata": {},
   "outputs": [
    {
     "data": {
      "text/html": [
       "<div>\n",
       "<style scoped>\n",
       "    .dataframe tbody tr th:only-of-type {\n",
       "        vertical-align: middle;\n",
       "    }\n",
       "\n",
       "    .dataframe tbody tr th {\n",
       "        vertical-align: top;\n",
       "    }\n",
       "\n",
       "    .dataframe thead th {\n",
       "        text-align: right;\n",
       "    }\n",
       "</style>\n",
       "<table border=\"1\" class=\"dataframe\">\n",
       "  <thead>\n",
       "    <tr style=\"text-align: right;\">\n",
       "      <th></th>\n",
       "      <th>job_retired</th>\n",
       "      <th>marital_married</th>\n",
       "      <th>housing_yes</th>\n",
       "      <th>loan_yes</th>\n",
       "      <th>contact_unknown</th>\n",
       "      <th>poutcome_success</th>\n",
       "      <th>poutcome_unknown</th>\n",
       "      <th>y_yes</th>\n",
       "    </tr>\n",
       "  </thead>\n",
       "  <tbody>\n",
       "    <tr>\n",
       "      <th>0</th>\n",
       "      <td>0</td>\n",
       "      <td>1</td>\n",
       "      <td>1</td>\n",
       "      <td>0</td>\n",
       "      <td>1</td>\n",
       "      <td>0</td>\n",
       "      <td>1</td>\n",
       "      <td>0</td>\n",
       "    </tr>\n",
       "    <tr>\n",
       "      <th>1</th>\n",
       "      <td>0</td>\n",
       "      <td>1</td>\n",
       "      <td>1</td>\n",
       "      <td>1</td>\n",
       "      <td>1</td>\n",
       "      <td>0</td>\n",
       "      <td>1</td>\n",
       "      <td>0</td>\n",
       "    </tr>\n",
       "    <tr>\n",
       "      <th>2</th>\n",
       "      <td>0</td>\n",
       "      <td>0</td>\n",
       "      <td>1</td>\n",
       "      <td>0</td>\n",
       "      <td>1</td>\n",
       "      <td>0</td>\n",
       "      <td>1</td>\n",
       "      <td>0</td>\n",
       "    </tr>\n",
       "    <tr>\n",
       "      <th>3</th>\n",
       "      <td>0</td>\n",
       "      <td>1</td>\n",
       "      <td>1</td>\n",
       "      <td>0</td>\n",
       "      <td>1</td>\n",
       "      <td>0</td>\n",
       "      <td>1</td>\n",
       "      <td>0</td>\n",
       "    </tr>\n",
       "    <tr>\n",
       "      <th>4</th>\n",
       "      <td>0</td>\n",
       "      <td>1</td>\n",
       "      <td>1</td>\n",
       "      <td>0</td>\n",
       "      <td>1</td>\n",
       "      <td>0</td>\n",
       "      <td>1</td>\n",
       "      <td>0</td>\n",
       "    </tr>\n",
       "    <tr>\n",
       "      <th>...</th>\n",
       "      <td>...</td>\n",
       "      <td>...</td>\n",
       "      <td>...</td>\n",
       "      <td>...</td>\n",
       "      <td>...</td>\n",
       "      <td>...</td>\n",
       "      <td>...</td>\n",
       "      <td>...</td>\n",
       "    </tr>\n",
       "    <tr>\n",
       "      <th>8995</th>\n",
       "      <td>0</td>\n",
       "      <td>0</td>\n",
       "      <td>1</td>\n",
       "      <td>0</td>\n",
       "      <td>0</td>\n",
       "      <td>0</td>\n",
       "      <td>0</td>\n",
       "      <td>0</td>\n",
       "    </tr>\n",
       "    <tr>\n",
       "      <th>8996</th>\n",
       "      <td>0</td>\n",
       "      <td>1</td>\n",
       "      <td>0</td>\n",
       "      <td>0</td>\n",
       "      <td>0</td>\n",
       "      <td>1</td>\n",
       "      <td>0</td>\n",
       "      <td>1</td>\n",
       "    </tr>\n",
       "    <tr>\n",
       "      <th>8997</th>\n",
       "      <td>1</td>\n",
       "      <td>1</td>\n",
       "      <td>0</td>\n",
       "      <td>0</td>\n",
       "      <td>0</td>\n",
       "      <td>0</td>\n",
       "      <td>0</td>\n",
       "      <td>1</td>\n",
       "    </tr>\n",
       "    <tr>\n",
       "      <th>8998</th>\n",
       "      <td>0</td>\n",
       "      <td>1</td>\n",
       "      <td>0</td>\n",
       "      <td>0</td>\n",
       "      <td>0</td>\n",
       "      <td>0</td>\n",
       "      <td>1</td>\n",
       "      <td>1</td>\n",
       "    </tr>\n",
       "    <tr>\n",
       "      <th>8999</th>\n",
       "      <td>1</td>\n",
       "      <td>0</td>\n",
       "      <td>0</td>\n",
       "      <td>0</td>\n",
       "      <td>0</td>\n",
       "      <td>0</td>\n",
       "      <td>1</td>\n",
       "      <td>1</td>\n",
       "    </tr>\n",
       "  </tbody>\n",
       "</table>\n",
       "<p>9000 rows × 8 columns</p>\n",
       "</div>"
      ],
      "text/plain": [
       "      job_retired  marital_married  housing_yes  loan_yes  contact_unknown  \\\n",
       "0               0                1            1         0                1   \n",
       "1               0                1            1         1                1   \n",
       "2               0                0            1         0                1   \n",
       "3               0                1            1         0                1   \n",
       "4               0                1            1         0                1   \n",
       "...           ...              ...          ...       ...              ...   \n",
       "8995            0                0            1         0                0   \n",
       "8996            0                1            0         0                0   \n",
       "8997            1                1            0         0                0   \n",
       "8998            0                1            0         0                0   \n",
       "8999            1                0            0         0                0   \n",
       "\n",
       "      poutcome_success  poutcome_unknown  y_yes  \n",
       "0                    0                 1      0  \n",
       "1                    0                 1      0  \n",
       "2                    0                 1      0  \n",
       "3                    0                 1      0  \n",
       "4                    0                 1      0  \n",
       "...                ...               ...    ...  \n",
       "8995                 0                 0      0  \n",
       "8996                 1                 0      1  \n",
       "8997                 0                 0      1  \n",
       "8998                 0                 1      1  \n",
       "8999                 0                 1      1  \n",
       "\n",
       "[9000 rows x 8 columns]"
      ]
     },
     "execution_count": 26,
     "metadata": {},
     "output_type": "execute_result"
    }
   ],
   "source": [
    "# create the new dataframe for the selected features with y_yes included \n",
    "df = df[['job_retired', 'marital_married', 'housing_yes', 'loan_yes',\n",
    "       'contact_unknown', 'poutcome_success', 'poutcome_unknown','y_yes']]\n",
    "df"
   ]
  },
  {
   "cell_type": "code",
   "execution_count": 27,
   "id": "57ea28ab",
   "metadata": {},
   "outputs": [
    {
     "data": {
      "text/plain": [
       "(9000, 7)"
      ]
     },
     "execution_count": 27,
     "metadata": {},
     "output_type": "execute_result"
    }
   ],
   "source": [
    "# Divide the independent&dependent variables\n",
    "X=df.drop(\"y_yes\", axis=1)\n",
    "y = df.y_yes\n",
    "X.shape"
   ]
  },
  {
   "cell_type": "code",
   "execution_count": 28,
   "id": "6ac93dda",
   "metadata": {},
   "outputs": [
    {
     "data": {
      "text/plain": [
       "(9000, 7)"
      ]
     },
     "execution_count": 28,
     "metadata": {},
     "output_type": "execute_result"
    }
   ],
   "source": [
    "rb = RobustScaler()\n",
    "Robust = rb.fit_transform(X)\n",
    "\n",
    "X_rb = pd.DataFrame(Robust, index=X.index, \n",
    "                          columns=X.columns) \n",
    "X_rb = X_rb.reset_index(drop=True)\n",
    "X_rb.shape\n",
    "#X_rb new data frame after scaling\n"
   ]
  },
  {
   "cell_type": "code",
   "execution_count": 29,
   "id": "0d1b11ad",
   "metadata": {},
   "outputs": [],
   "source": [
    "from sklearn.pipeline import Pipeline\n",
    "from sklearn.linear_model import LogisticRegression\n",
    "from sklearn.neighbors import KNeighborsClassifier\n",
    "from sklearn.svm import SVC\n",
    "from sklearn.tree import DecisionTreeClassifier\n",
    "from sklearn.naive_bayes import GaussianNB\n",
    "from sklearn.metrics import accuracy_score, log_loss\n",
    "from sklearn.ensemble import RandomForestClassifier\n",
    "from sklearn.datasets import make_classification\n",
    "from sklearn.model_selection import cross_val_score,KFold,LeaveOneOut\n",
    "from sklearn.model_selection import KFold\n",
    "from sklearn.ensemble import AdaBoostClassifier\n",
    "from sklearn.model_selection import cross_val_score\n",
    "#pip install xgboost\n",
    "import xgboost as xgb\n",
    "from sklearn.metrics import classification_report"
   ]
  },
  {
   "cell_type": "code",
   "execution_count": 30,
   "id": "bcc66ddc",
   "metadata": {},
   "outputs": [],
   "source": [
    "#Dividing the dataset into training and test sets with ratio of 75:25\n",
    "xtrain, xtest,ytrain,ytest = train_test_split(X_rb, y, test_size=0.25,\n",
    "                                                   random_state=42)"
   ]
  },
  {
   "cell_type": "code",
   "execution_count": 31,
   "id": "98fd8e1b",
   "metadata": {},
   "outputs": [],
   "source": [
    "names = [\"Nearest Neighbors\",          \n",
    "         \"Decision Tree\", \"Naive Bayes\",\"RandomForest\",\"AdaBoost\",\"XGBOOST\"]\n",
    "scores = [] #list variable to hold classification scores\n",
    "cv_score = [] \n",
    "kfold = KFold(n_splits=5)\n",
    "\n",
    "classifiers = [\n",
    "    KNeighborsClassifier(3),\n",
    "    DecisionTreeClassifier(max_depth=5),\n",
    "    GaussianNB(),\n",
    "    RandomForestClassifier(max_depth=5, n_estimators=300),\n",
    "    AdaBoostClassifier(learning_rate=0.1),\n",
    "    xgb.XGBClassifier()]\n",
    "\n"
   ]
  },
  {
   "cell_type": "code",
   "execution_count": 32,
   "id": "b1351ce9",
   "metadata": {},
   "outputs": [
    {
     "name": "stdout",
     "output_type": "stream",
     "text": [
      "KNeighborsClassifier(n_neighbors=3)\n",
      "model score: 0.893\n",
      "\n",
      " ---------------------------------\n",
      "DecisionTreeClassifier(max_depth=5)\n",
      "model score: 0.896\n",
      "\n",
      " ---------------------------------\n",
      "GaussianNB()\n",
      "model score: 0.874\n",
      "\n",
      " ---------------------------------\n",
      "RandomForestClassifier(max_depth=5, n_estimators=300)\n",
      "model score: 0.896\n",
      "\n",
      " ---------------------------------\n",
      "AdaBoostClassifier(learning_rate=0.1)\n",
      "model score: 0.897\n",
      "\n",
      " ---------------------------------\n",
      "XGBClassifier(base_score=None, booster=None, callbacks=None,\n",
      "              colsample_bylevel=None, colsample_bynode=None,\n",
      "              colsample_bytree=None, early_stopping_rounds=None,\n",
      "              enable_categorical=False, eval_metric=None, feature_types=None,\n",
      "              gamma=None, gpu_id=None, grow_policy=None, importance_type=None,\n",
      "              interaction_constraints=None, learning_rate=None, max_bin=None,\n",
      "              max_cat_threshold=None, max_cat_to_onehot=None,\n",
      "              max_delta_step=None, max_depth=None, max_leaves=None,\n",
      "              min_child_weight=None, missing=nan, monotone_constraints=None,\n",
      "              n_estimators=100, n_jobs=None, num_parallel_tree=None,\n",
      "              predictor=None, random_state=None, ...)\n",
      "model score: 0.896\n",
      "\n",
      " ---------------------------------\n"
     ]
    },
    {
     "data": {
      "text/html": [
       "<div>\n",
       "<style scoped>\n",
       "    .dataframe tbody tr th:only-of-type {\n",
       "        vertical-align: middle;\n",
       "    }\n",
       "\n",
       "    .dataframe tbody tr th {\n",
       "        vertical-align: top;\n",
       "    }\n",
       "\n",
       "    .dataframe thead th {\n",
       "        text-align: right;\n",
       "    }\n",
       "</style>\n",
       "<table border=\"1\" class=\"dataframe\">\n",
       "  <thead>\n",
       "    <tr style=\"text-align: right;\">\n",
       "      <th></th>\n",
       "      <th>Classifier</th>\n",
       "      <th>Cross Val. Score (Avg)</th>\n",
       "      <th>Accuracy Score</th>\n",
       "    </tr>\n",
       "  </thead>\n",
       "  <tbody>\n",
       "    <tr>\n",
       "      <th>0</th>\n",
       "      <td>Nearest Neighbors</td>\n",
       "      <td>0.890815</td>\n",
       "      <td>0.893333</td>\n",
       "    </tr>\n",
       "    <tr>\n",
       "      <th>1</th>\n",
       "      <td>Decision Tree</td>\n",
       "      <td>0.894667</td>\n",
       "      <td>0.896000</td>\n",
       "    </tr>\n",
       "    <tr>\n",
       "      <th>2</th>\n",
       "      <td>Naive Bayes</td>\n",
       "      <td>0.873481</td>\n",
       "      <td>0.874222</td>\n",
       "    </tr>\n",
       "    <tr>\n",
       "      <th>3</th>\n",
       "      <td>RandomForest</td>\n",
       "      <td>0.894963</td>\n",
       "      <td>0.896000</td>\n",
       "    </tr>\n",
       "    <tr>\n",
       "      <th>4</th>\n",
       "      <td>AdaBoost</td>\n",
       "      <td>0.894519</td>\n",
       "      <td>0.896889</td>\n",
       "    </tr>\n",
       "    <tr>\n",
       "      <th>5</th>\n",
       "      <td>XGBOOST</td>\n",
       "      <td>0.894667</td>\n",
       "      <td>0.896000</td>\n",
       "    </tr>\n",
       "  </tbody>\n",
       "</table>\n",
       "</div>"
      ],
      "text/plain": [
       "          Classifier  Cross Val. Score (Avg)  Accuracy Score\n",
       "0  Nearest Neighbors                0.890815        0.893333\n",
       "1      Decision Tree                0.894667        0.896000\n",
       "2        Naive Bayes                0.873481        0.874222\n",
       "3       RandomForest                0.894963        0.896000\n",
       "4           AdaBoost                0.894519        0.896889\n",
       "5            XGBOOST                0.894667        0.896000"
      ]
     },
     "execution_count": 32,
     "metadata": {},
     "output_type": "execute_result"
    }
   ],
   "source": [
    "for classifier in classifiers:\n",
    "    pipeline = Pipeline(steps=[('classifier', classifier)\n",
    "    ])\n",
    "    pipeline.fit(xtrain, ytrain)\n",
    "    names.append(pipeline.__class__.__name__)\n",
    "    model_cv_scores = cross_val_score(classifier, xtrain, ytrain, cv = kfold)\n",
    "    cv_score.append(model_cv_scores.mean())\n",
    "    print(classifier)\n",
    "    scores.append(pipeline.score(xtest, ytest))\n",
    "    print(\"model score: %.3f\" % pipeline.score(xtest, ytest))\n",
    "    print(\"\\n ---------------------------------\")\n",
    "\n",
    "scores_df = pd.DataFrame(zip(names,cv_score,scores), columns = ['Classifier', 'Cross Val. Score (Avg)', 'Accuracy Score'])\n",
    "scores_df"
   ]
  },
  {
   "cell_type": "markdown",
   "id": "01033978",
   "metadata": {},
   "source": [
    "AdaBoost is the superior model in this case"
   ]
  },
  {
   "cell_type": "markdown",
   "id": "6f4f5f87",
   "metadata": {},
   "source": [
    " ### Model Evaluation"
   ]
  },
  {
   "cell_type": "code",
   "execution_count": 39,
   "id": "ebcc55aa",
   "metadata": {},
   "outputs": [],
   "source": [
    "from sklearn.metrics import accuracy_score, classification_report, confusion_matrix, roc_curve, roc_auc_score"
   ]
  },
  {
   "cell_type": "code",
   "execution_count": 42,
   "id": "1d2d5e09",
   "metadata": {},
   "outputs": [],
   "source": [
    "model = AdaBoostClassifier(learning_rate=0.1)\n",
    "model.fit(xtrain,ytrain)\n",
    "y_pred = model.predict(xtest)\n",
    "\n",
    "data = confusion_matrix(ytest,y_pred)\n"
   ]
  },
  {
   "cell_type": "code",
   "execution_count": 43,
   "id": "257e62e4",
   "metadata": {
    "scrolled": false
   },
   "outputs": [
    {
     "data": {
      "text/plain": [
       "<AxesSubplot:xlabel='Predicted', ylabel='Actual'>"
      ]
     },
     "execution_count": 43,
     "metadata": {},
     "output_type": "execute_result"
    },
    {
     "data": {
      "image/png": "[encoded data removed]",
      "text/plain": [
       "<Figure size 500x500 with 1 Axes>"
      ]
     },
     "metadata": {},
     "output_type": "display_data"
    }
   ],
   "source": [
    "df_cm = pd.DataFrame(data, columns=np.unique(ytest), index = np.unique(ytest))\n",
    "df_cm.index.name = 'Actual'\n",
    "df_cm.columns.name = 'Predicted'\n",
    "plt.figure(figsize = (5,5))\n",
    "sns.set(font_scale=1.6)\n",
    "sns.heatmap(df_cm, annot=True,annot_kws={\"size\": 15}, cbar=False,\n",
    "vmax=500, square=True, fmt=\"d\", cmap=\"Blues\")"
   ]
  },
  {
   "cell_type": "markdown",
   "id": "a37fa781",
   "metadata": {},
   "source": [
    "### Classification Report"
   ]
  },
  {
   "cell_type": "code",
   "execution_count": 44,
   "id": "3ca30f21",
   "metadata": {},
   "outputs": [
    {
     "name": "stdout",
     "output_type": "stream",
     "text": [
      "              precision    recall  f1-score   support\n",
      "\n",
      "           0       0.90      0.99      0.94      2006\n",
      "           1       0.60      0.14      0.23       244\n",
      "\n",
      "    accuracy                           0.90      2250\n",
      "   macro avg       0.75      0.57      0.59      2250\n",
      "weighted avg       0.87      0.90      0.87      2250\n",
      "\n"
     ]
    }
   ],
   "source": [
    "print(classification_report(ytest, y_pred))"
   ]
  },
  {
   "cell_type": "markdown",
   "id": "d16a458f",
   "metadata": {},
   "source": [
    "### ROC Curve"
   ]
  },
  {
   "cell_type": "code",
   "execution_count": 45,
   "id": "f96a3cdf",
   "metadata": {
    "scrolled": false
   },
   "outputs": [
    {
     "data": {
      "image/png": "[encoded data removed]",
      "text/plain": [
       "<Figure size 640x480 with 1 Axes>"
      ]
     },
     "metadata": {},
     "output_type": "display_data"
    },
    {
     "name": "stdout",
     "output_type": "stream",
     "text": [
      "Area Under ROC 0.576289573901247\n"
     ]
    }
   ],
   "source": [
    "RFF = roc_auc_score(ytest, pipeline.predict(xtest))\n",
    "fpr, tpr, thresholds = roc_curve(ytest, pipeline.predict_proba(xtest)[:,1])\n",
    "plt.figure()\n",
    "plt.plot(fpr, tpr, label=' Random Forest Area (area = %0.2f)' % RFF)\n",
    "plt.plot([0, 1], [0, 1],'r--')\n",
    "plt.xlim([0.0, 1.0])\n",
    "plt.ylim([0.0, 1.05])\n",
    "plt.xlabel('False Positive Rate')\n",
    "plt.ylabel('True Positive Rate')\n",
    "plt.title('Receiver operating characteristic')\n",
    "plt.legend(loc=\"lower right\")\n",
    "plt.show()\n",
    "print(\"Area Under ROC\", RFF)"
   ]
  },
  {
   "cell_type": "code",
   "execution_count": 47,
   "id": "d1b42291",
   "metadata": {
    "scrolled": true
   },
   "outputs": [
    {
     "name": "stdout",
     "output_type": "stream",
     "text": [
      "0    7969\n",
      "1    1031\n",
      "Name: y_yes, dtype: int64\n"
     ]
    }
   ],
   "source": [
    "print(Y.value_counts())"
   ]
  },
  {
   "cell_type": "markdown",
   "id": "ff19df3f",
   "metadata": {},
   "source": [
    "# Conclusion"
   ]
  },
  {
   "cell_type": "markdown",
   "id": "626e58e2",
   "metadata": {},
   "source": [
    "The classification report for the AdaBoost Classifier indicates that the model has an overall accuracy of 90%, which suggests that it correctly predicts the class labels for the majority of instances. However, when we look at precision and recall, we see a significant imbalance between the two classes (0 and 1). The model performs well in predicting class 0 with a precision of 90% and recall of 99%, indicating that it effectively identifies true negatives and has a high true negative rate. In contrast, for class 1, the precision is only 60%, indicating that when the model predicts class 1, it has a moderate level of false positives, and the recall is quite low at 14%, indicating that it misses a significant number of actual class 1 instances. This imbalance is reflected in the F1-score, which is higher for class 0 (0.94) compared to class 1 (0.23). The confusion matrix further illustrates this imbalance, with a large number of true negatives (1983) and a small number of true positives (35) for class 1. Lastly, the Area Under ROC (Receiver Operating Characteristic) is 0.576, which indicates that the model's ability to distinguish between the two classes is only slightly better than random chance. This suggests that the model might benefit from further tuning or addressing class imbalance issues to improve its performance on class 1 predictions."
   ]
  },
  {
   "cell_type": "markdown",
   "id": "2faa43b0",
   "metadata": {},
   "source": [
    "### References"
   ]
  },
  {
   "cell_type": "markdown",
   "id": "aa826c3f",
   "metadata": {},
   "source": [
    "\n",
    "Gong, D. (2022, July 12). Top 6 machine learning algorithms for classification. Medium. https://towardsdatascience.com/top-machine-learning-algorithms-for-classification-2197870ff501 \n",
    "Hands-on machine learning with scikit-learn, Keras, and TensorFlow, 2nd edition. (n.d.). O’Reilly Online Learning. https://www.oreilly.com/library/view/hands-on-machine-learning/9781492032632/ "
   ]
  }
 ],
 "metadata": {
  "kernelspec": {
   "display_name": "Python 3 (ipykernel)",
   "language": "python",
   "name": "python3"
  },
  "language_info": {
   "codemirror_mode": {
    "name": "ipython",
    "version": 3
   },
   "file_extension": ".py",
   "mimetype": "text/x-python",
   "name": "python",
   "nbconvert_exporter": "python",
   "pygments_lexer": "ipython3",
   "version": "3.9.13"
  }
 },
 "nbformat": 4,
 "nbformat_minor": 5
}
